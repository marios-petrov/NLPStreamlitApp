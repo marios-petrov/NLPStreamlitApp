{
 "cells": [
  {
   "cell_type": "markdown",
   "source": [],
   "metadata": {
    "collapsed": false
   }
  },
  {
   "cell_type": "markdown",
   "source": [
    "\n",
    "# Project Title:\n",
    ">Plug-and-Play NLP Assistant\n",
    "\n",
    "# Personal Information:\n",
    " >Marios Petrov, Intermediate Python Final Project\n",
    "\n",
    "# Project Type:\n",
    ">Scientific"
   ],
   "metadata": {
    "collapsed": false
   }
  },
  {
   "cell_type": "markdown",
   "source": [
    "## Description of Application\n",
    ">Coding and training your own summarizer, or executing your own text processing on a dataset is incredibly time-consuming and tedious. With my application, NLP functions that previously required a substantial time investment to carry out can now be done at the press of a button. All thanks to the incredibly easy-to-use interface constructed using the Streamlit library.\n",
    "\n",
    "\n",
    "## Necessary Packages\n",
    ">-streamlit\n",
    ">-io\n",
    ">-BeautifulSoup\n",
    ">-requests\n",
    ">-re\n",
    ">-summarizer\n",
    ">-nltk\n",
    ">-string\n",
    ">-collections"
   ],
   "metadata": {
    "collapsed": false
   }
  },
  {
   "cell_type": "markdown",
   "source": [
    "## Usage\n",
    "\n",
    ">Download the \"main\" file within the repository and all necessary packages listed in teh Project Overview. Then run the main module in your IDE of choice. You will receive an output that tells you to execute a streamlit run statement followed by the path of the main module. copy and past the output run statement into your terminal and the app will launch in your browser."
   ],
   "metadata": {
    "collapsed": false
   }
  },
  {
   "cell_type": "markdown",
   "source": [
    "\n",
    "\n",
    "\n",
    "\n",
    "\n",
    "\n",
    "\n",
    "\n",
    "## Testing\n",
    ">Once you have the application up and running, you can test each file uplod function/widget for the two different modes (Summarizer,Text Processor) with the provided test document. The document can be found in the repository, and it's titled \"TEST_DOCUMENT\". The RawText input functions/widgets can be tested by just copy and pasting the text contents of the provided document. Lastly the \"wikiURL\" input type can simply be tested by providing a valid Wikipedia link.\n",
    "\n"
   ],
   "metadata": {
    "collapsed": false
   }
  },
  {
   "cell_type": "markdown",
   "source": [
    "\n"
   ],
   "metadata": {
    "collapsed": false
   }
  }
 ],
 "metadata": {
  "kernelspec": {
   "display_name": "Python 3",
   "language": "python",
   "name": "python3"
  },
  "language_info": {
   "codemirror_mode": {
    "name": "ipython",
    "version": 2
   },
   "file_extension": ".py",
   "mimetype": "text/x-python",
   "name": "python",
   "nbconvert_exporter": "python",
   "pygments_lexer": "ipython2",
   "version": "2.7.6"
  }
 },
 "nbformat": 4,
 "nbformat_minor": 0
}
